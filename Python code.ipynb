{
 "cells": [
  {
   "cell_type": "code",
   "execution_count": 1,
   "metadata": {},
   "outputs": [],
   "source": [
    "import arcpy"
   ]
  },
  {
   "cell_type": "code",
   "execution_count": 2,
   "metadata": {},
   "outputs": [],
   "source": [
    "def Searching_Potential_Oil_zones_in_Texas():\n",
    "    \n",
    "    # We're asking to the user to write down the parameters\n",
    "    porosity=float(input(\"Write the Porosity value: \"))\n",
    "    permeability=float(input(\"Write the Permeability value: \"))\n",
    "    gdp_price=float(input(\"Write the Price:\"))\n",
    "    \n",
    "\n",
    "    # We're defining the parameter of the rock and using a loop to input the query\n",
    "    number_of_rocks= int(input(\"How many rocks type would you like to select: \"))\n",
    "    query_rock_full = \"\"\n",
    "    for i in range(number_of_rocks):\n",
    "        soil_type = \"'\"+ input(\"Specify type \" + str(i+1) + \": \") +  \"'\"\n",
    "        query_rock_full= query_rock_full + \"GENERALIZE = \" + soil_type + \" or \"\n",
    "    \n",
    "    # Get rid of the last \" OR \" piece of string\n",
    "    query_rock_full = query_rock_full[:-4]\n",
    "\n",
    "    # Here we're defining our workspace\n",
    "    arcpy.env.workspace=\"C:/EsriTraining/Clips/TexasData.gdb\"\n",
    "    \n",
    "    # We're overwriting in case it had already been created\n",
    "    arcpy.env.overwriteOutput=True\n",
    "\n",
    "    # We're creating a porosity layer based on the user's input \n",
    "    GeoParameters_layer=\"C:/EsriTraining/Clips/TexasData.gdb/GLHYMPS\"\n",
    "    arcpy.MakeFeatureLayer_management(GeoParameters_layer,\"Porosity_layer\")\n",
    "    query_porosity=\"Porosity >= \"+str(porosity)\n",
    "    arcpy.SelectLayerByAttribute_management(\"Porosity_layer\",\"NEW_SELECTION\",query_porosity)\n",
    "    arcpy.CopyFeatures_management(\"Porosity_layer\",\"Porosity_Selected\")\n",
    "\n",
    "    # We're creating permeability layer  based on the user's input\n",
    "    arcpy.MakeFeatureLayer_management(GeoParameters_layer,\"Permeability_layer\")\n",
    "    query_permeability=\"Permeabi_2 >= \"+str(permeability)\n",
    "    arcpy.SelectLayerByAttribute_management(\"Permeability_layer\",\"NEW_SELECTION\",query_permeability)\n",
    "    arcpy.CopyFeatures_management(\"Permeability_layer\",\"Permeability_Selected\")\n",
    "\n",
    "    # We're creating lithology layer according to the user's input\n",
    "    Lithology_layer=\"C:/EsriTraining/Clips/TexasData.gdb/SGMC_Texas\"\n",
    "    arcpy.MakeFeatureLayer_management(Lithology_layer,\"Rock_Types_layer\")\n",
    "    arcpy.SelectLayerByAttribute_management(\"Rock_Types_layer\",\"NEW_SELECTION\",query_rock_full)\n",
    "    arcpy.CopyFeatures_management(\"Rock_Types_layer\",\"Rock_Types_Selected\")\n",
    "    \n",
    "    # Do a raster conditional x = arcpy.sa.Con(GDPraster, 1, \"\", \"VALUE<\" + str(treshold))\n",
    "    # save the raster to disk\n",
    "    # convert the raster to polygon\n",
    "    # arcpy.conversion.RasterToPolygon(x, \"GDP_mask_polygon\")\n",
    "    \n",
    "    # We're making a condition based to the user's input and convering that layer into a polygon \n",
    "    GDP = arcpy.Raster(\"GDP\")\n",
    "    price_condition = arcpy.sa.Con(GDP, 1, \"\", \"VALUE<\" + str(gdp_price))\n",
    "    price_condition.save(\"price_condition\")\n",
    "    arcpy.conversion.RasterToPolygon(price_condition, \"gdp_polygon\")\n",
    "\n",
    "    # We're finally intersecting our previous layers in order to find the optimal oil zone\n",
    "    inFeatures=[\"Permeability_Selected\",\"Porosity_Selected\",\"Rock_Types_Selected\", \"gdp_polygon\"]\n",
    "    intersectOutput=\"Potential_Oil_zones\"\n",
    "    arcpy.analysis.Intersect(inFeatures,intersectOutput)"
   ]
  },
  {
   "cell_type": "code",
   "execution_count": null,
   "metadata": {},
   "outputs": [],
   "source": [
    "    # Types of rock\n",
    "    # Sedimentary, carbonate\n",
    "    # Sedimentary, chemical\n",
    "    # Sedimentary, clastic\n",
    "    # Sedimentary, evaporite\n",
    "    \n",
    "    #Write the Porosity value: 0.18\n",
    "    #Write the Permeability value: 0.1\n",
    "    #Write the Price:90000\n",
    "    #How many rocks type would you like to select: 2\n",
    "    #Specify type 1: Sedimentary, carbonate\n",
    "    #Specify type 2: Sedimentary, chemical"
   ]
  },
  {
   "cell_type": "code",
   "execution_count": 5,
   "metadata": {},
   "outputs": [
    {
     "name": "stdout",
     "output_type": "stream",
     "text": [
      "Write the Porosity value: 0.1\n",
      "Write the Permeability value: 0.05\n",
      "Write the Price:1000000\n",
      "How many rocks type would you like to select: 4\n",
      "Specify type 1: Sedimentary, carbonate\n",
      "Specify type 2: Sedimentary, chemical\n",
      "Specify type 3: Sedimentary, clastic\n",
      "Specify type 4: Sedimentary, evaporite\n"
     ]
    }
   ],
   "source": [
    "Searching_Potential_Oil_zones_in_Texas()"
   ]
  }
 ],
 "metadata": {
  "kernelspec": {
   "display_name": "Python 3",
   "language": "python",
   "name": "python3"
  },
  "language_info": {
   "codemirror_mode": {
    "name": "ipython",
    "version": 3
   },
   "file_extension": ".py",
   "mimetype": "text/x-python",
   "name": "python",
   "nbconvert_exporter": "python",
   "pygments_lexer": "ipython3",
   "version": "3.7.9"
  }
 },
 "nbformat": 4,
 "nbformat_minor": 4
}
